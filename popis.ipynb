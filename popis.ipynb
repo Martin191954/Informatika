{
  "nbformat": 4,
  "nbformat_minor": 0,
  "metadata": {
    "colab": {
      "provenance": [],
      "authorship_tag": "ABX9TyNn1V06SI9G7HsXvdofx11Q",
      "include_colab_link": true
    },
    "kernelspec": {
      "name": "python3",
      "display_name": "Python 3"
    },
    "language_info": {
      "name": "python"
    }
  },
  "cells": [
    {
      "cell_type": "markdown",
      "metadata": {
        "id": "view-in-github",
        "colab_type": "text"
      },
      "source": [
        "<a href=\"https://colab.research.google.com/github/Martin191954/Informatika/blob/main/popis.ipynb\" target=\"_parent\"><img src=\"https://colab.research.google.com/assets/colab-badge.svg\" alt=\"Open In Colab\"/></a>"
      ]
    },
    {
      "cell_type": "markdown",
      "source": [
        "Popis krokov programu na prevod EUR do viacerých mien\n",
        "# Definovanie funkcie currency_exchange(eur_amount)\n",
        "\n",
        "**Program má funkciu, ktorá prijíma vstupnú sumu v eurách (eur_amount).\n",
        "\n",
        "Vnútri funkcie je slovník rates s pevne definovanými výmennými kurzami z EUR do rôznych mien **(GBP, PLN, USD, HUF, CZK)**.\n",
        "\n",
        "Výpočet a zobrazenie prevodu pre každú menu\n",
        "\n",
        "Funkcia prejde všetky meny a ich kurzy zo slovníka.\n",
        "\n",
        "Pre každú menu vypočíta hodnotu: eur_amount * kurz.\n",
        "\n",
        "Vypíše výsledok formátovaný na dve desatinné miesta.\n",
        "\n",
        "# Vstup od používateľa\n",
        "\n",
        "Program požiada používateľa, aby zadal sumu v eurách **(input)**.\n",
        "\n",
        "Pokúsi sa previesť vstup na číslo s desatinnou čiarkou **(float)**.\n",
        "\n",
        "# Validácia vstupu\n",
        "\n",
        "Ak je zadaná suma záporná, program vypíše upozornenie, že musí byť kladné číslo.\n",
        "\n",
        "Ak vstup nie je platné číslo (napr. písmená), program vypíše chybovú správu.\n",
        "\n",
        "# Volanie funkcie a zobrazenie výsledkov\n",
        "\n",
        "Ak je vstup platný a kladný, zavolá sa funkcia currency_exchange s danou sumou.\n",
        "\n",
        "Funkcia vypíše prevody do všetkých podporovaných mien.\n",
        "\n",
        "# Ukončenie programu\n",
        "\n",
        "Program končí po zobrazení výsledkov alebo chyby."
      ],
      "metadata": {
        "id": "gac0k9RBrps7"
      }
    }
  ]
}