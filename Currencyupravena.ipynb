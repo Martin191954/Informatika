{
  "nbformat": 4,
  "nbformat_minor": 0,
  "metadata": {
    "colab": {
      "provenance": [],
      "include_colab_link": true
    },
    "kernelspec": {
      "name": "python3",
      "display_name": "Python 3"
    },
    "language_info": {
      "name": "python"
    }
  },
  "cells": [
    {
      "cell_type": "markdown",
      "metadata": {
        "id": "view-in-github",
        "colab_type": "text"
      },
      "source": [
        "<a href=\"https://colab.research.google.com/github/Martin191954/Informatika/blob/main/Currencyupravena.ipynb\" target=\"_parent\"><img src=\"https://colab.research.google.com/assets/colab-badge.svg\" alt=\"Open In Colab\"/></a>"
      ]
    },
    {
      "cell_type": "markdown",
      "source": [
        "#Zmenáreň\n",
        "\n",
        "**Z eur na:**\n",
        "\n",
        "1.   GBP British Pound\n",
        "2.   Polish Zloty\n",
        "3.   US Dollar\n",
        "4.   Hungarian Forint\n",
        "5.   Czech Koruna\n",
        "\n",
        "\n",
        "\n",
        "\n",
        "\n"
      ],
      "metadata": {
        "id": "jHaHprjNrQoZ"
      }
    },
    {
      "cell_type": "markdown",
      "source": [
        "##Popis programu:"
      ],
      "metadata": {
        "id": "jZx1il7or_rQ"
      }
    },
    {
      "cell_type": "markdown",
      "source": [
        "##Program:"
      ],
      "metadata": {
        "id": "YBWwlZE5sGe3"
      }
    },
    {
      "cell_type": "code",
      "execution_count": 1,
      "metadata": {
        "id": "LYs-VFYnqlIC",
        "outputId": "81135f38-79d5-4136-db31-733b44495225",
        "colab": {
          "base_uri": "https://localhost:8080/"
        }
      },
      "outputs": [
        {
          "output_type": "stream",
          "name": "stdout",
          "text": [
            "Zadaj sumu v eurách: 20\n",
            "Výmena 20.0 EUR na iné meny:\n",
            "GBP: 17.60\n",
            "PLN: 92.00\n",
            "USD: 22.00\n",
            "HUF: 7700.00\n",
            "CZK: 490.00\n"
          ]
        }
      ],
      "source": [
        "\n",
        "def currency_exchange(eur_amount):\n",
        "    # Exchange rates as of a recent date (you can update these rates)\n",
        "    rates = {\n",
        "        \"GBP\": 0.88,    # British Pound\n",
        "        \"PLN\": 4.60,    # Polish Zloty\n",
        "        \"USD\": 1.10,    # US Dollar\n",
        "        \"HUF\": 385.0,   # Hungarian Forint\n",
        "        \"CZK\": 24.50    # Czech Koruna\n",
        "    }\n",
        "\n",
        "    print(f\"Výmena {eur_amount} EUR na iné meny:\")\n",
        "    for currency, rate in rates.items():\n",
        "        converted = eur_amount * rate\n",
        "        print(f\"{currency}: {converted:.2f}\")\n",
        "\n",
        "if __name__ == \"__main__\":\n",
        "    try:\n",
        "        amount = float(input(\"Zadaj sumu v eurách: \"))\n",
        "        if amount < 0:\n",
        "            print(\"Zadaj kladné číslo.\")\n",
        "        else:\n",
        "            currency_exchange(amount)\n",
        "    except ValueError:\n",
        "        print(\"Prosím, zadaj platné číslo.\")\n"
      ]
    }
  ]
}