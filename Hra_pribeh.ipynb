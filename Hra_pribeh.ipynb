{
  "nbformat": 4,
  "nbformat_minor": 0,
  "metadata": {
    "colab": {
      "provenance": [],
      "authorship_tag": "ABX9TyNumSdNb23/JeCpOXvGnrsA",
      "include_colab_link": true
    },
    "kernelspec": {
      "name": "python3",
      "display_name": "Python 3"
    },
    "language_info": {
      "name": "python"
    }
  },
  "cells": [
    {
      "cell_type": "markdown",
      "metadata": {
        "id": "view-in-github",
        "colab_type": "text"
      },
      "source": [
        "<a href=\"https://colab.research.google.com/github/Martin191954/Informatika/blob/main/Hra_pribeh.ipynb\" target=\"_parent\"><img src=\"https://colab.research.google.com/assets/colab-badge.svg\" alt=\"Open In Colab\"/></a>"
      ]
    },
    {
      "cell_type": "markdown",
      "source": [
        "# Tvorba hry\n",
        "Príbeh s dvoma možnosťami na konci. Po výberu sa vytvorí ďalšia čast príbehu. Vždy je len jedna možnosť správna."
      ],
      "metadata": {
        "id": "91KIPNrlgDPp"
      }
    },
    {
      "cell_type": "code",
      "source": [
        "def uvod():\n",
        "    print(\"Si mladý dobrodruh, ktorý práve dorazil do tajomného lesa.\")\n",
        "    print(\"Pred tebou sú dve cesty: jedna vedie do hustého lesa, druhá k rieke.\")\n",
        "    print(\"1: Ísť do lesa\")\n",
        "    print(\"2: Ísť k rieke\")\n",
        "    volba = input(\"Vyber si (1 alebo 2): \")\n",
        "    if volba == \"1\":\n",
        "        les()\n",
        "    elif volba == \"2\":\n",
        "        rieka()\n",
        "    else:\n",
        "        print(\"Neplatná voľba.\")\n",
        "        uvod()\n",
        "\n",
        "def les():\n",
        "    print(\"\\nV lese počuješ podivné zvuky. Zbadáš jaskyňu a vysoký strom s vyhliadkou.\")\n",
        "    print(\"1: Vojsť do jaskyne\")\n",
        "    print(\"2: Vyliezť na strom\")\n",
        "    volba = input(\"Vyber si (1 alebo 2): \")\n",
        "    if volba == \"1\":\n",
        "        print(\"\\nVošiel si do jaskyne a objavil poklad! Vyhral si!\")\n",
        "    elif volba == \"2\":\n",
        "        print(\"\\nZ vrcholu stromu ťa zhodil orol. Prehral si!\")\n",
        "    else:\n",
        "        print(\"Neplatná voľba.\")\n",
        "        les()\n",
        "\n",
        "def rieka():\n",
        "    print(\"\\nPriblížiš sa k rieke a vidíš starý most a loďku priviazanú pri brehu.\")\n",
        "    print(\"1: Prejsť po moste\")\n",
        "    print(\"2: Použiť loďku\")\n",
        "    volba = input(\"Vyber si (1 alebo 2): \")\n",
        "    if volba == \"1\":\n",
        "        print(\"\\nMost sa pod tebou zrútil. Prehral si!\")\n",
        "    elif volba == \"2\":\n",
        "        print(\"\\nLoďka ťa previezla na druhý breh, kde si našiel stratené mesto. Vyhral si!\")\n",
        "    else:\n",
        "        print(\"Neplatná voľba.\")\n",
        "        rieka()\n",
        "\n",
        "# Spustenie príbehu\n",
        "uvod()"
      ],
      "metadata": {
        "colab": {
          "base_uri": "https://localhost:8080/"
        },
        "id": "qGmBxKPXg4zK",
        "outputId": "cddadba0-9aec-4af8-8a2d-0819747d2824"
      },
      "execution_count": null,
      "outputs": [
        {
          "output_type": "stream",
          "name": "stdout",
          "text": [
            "Si mladý dobrodruh, ktorý práve dorazil do tajomného lesa.\n",
            "Pred tebou sú dve cesty: jedna vedie do hustého lesa, druhá k rieke.\n",
            "1: Ísť do lesa\n",
            "2: Ísť k rieke\n"
          ]
        }
      ]
    }
  ]
}