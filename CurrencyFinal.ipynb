{
  "nbformat": 4,
  "nbformat_minor": 0,
  "metadata": {
    "colab": {
      "provenance": [],
      "include_colab_link": true
    },
    "kernelspec": {
      "name": "python3",
      "display_name": "Python 3"
    },
    "language_info": {
      "name": "python"
    }
  },
  "cells": [
    {
      "cell_type": "markdown",
      "metadata": {
        "id": "view-in-github",
        "colab_type": "text"
      },
      "source": [
        "<a href=\"https://colab.research.google.com/github/Martin191954/Informatika/blob/main/CurrencyFinal.ipynb\" target=\"_parent\"><img src=\"https://colab.research.google.com/assets/colab-badge.svg\" alt=\"Open In Colab\"/></a>"
      ]
    },
    {
      "cell_type": "markdown",
      "source": [
        "#Zmenáreň\n",
        "\n",
        "**Z eur na:**\n",
        "\n",
        "1.   GBP British Pound\n",
        "2.   Polish Zloty\n",
        "3.   US Dollar\n",
        "4.   Hungarian Forint\n",
        "5.   Czech Koruna\n",
        "\n",
        "\n",
        "\n",
        "\n",
        "\n"
      ],
      "metadata": {
        "id": "jHaHprjNrQoZ"
      }
    },
    {
      "cell_type": "markdown",
      "source": [
        "##Popis programu:"
      ],
      "metadata": {
        "id": "jZx1il7or_rQ"
      }
    },
    {
      "cell_type": "markdown",
      "source": [
        "##Program:"
      ],
      "metadata": {
        "id": "YBWwlZE5sGe3"
      }
    },
    {
      "cell_type": "code",
      "execution_count": null,
      "metadata": {
        "id": "LYs-VFYnqlIC",
        "outputId": "81135f38-79d5-4136-db31-733b44495225",
        "colab": {
          "base_uri": "https://localhost:8080/"
        }
      },
      "outputs": [
        {
          "output_type": "stream",
          "name": "stdout",
          "text": [
            "Zadaj sumu v eurách: 20\n",
            "Výmena 20.0 EUR na iné meny:\n",
            "GBP: 17.60\n",
            "PLN: 92.00\n",
            "USD: 22.00\n",
            "HUF: 7700.00\n",
            "CZK: 490.00\n"
          ]
        }
      ],
      "source": [
        "\n",
        "def currency_exchange(eur_amount):\n",
        "    # Exchange rates as of a recent date (you can update these rates)\n",
        "    rates = {\n",
        "        \"GBP\": 0.88,    # British Pound\n",
        "        \"PLN\": 4.60,    # Polish Zloty\n",
        "        \"USD\": 1.10,    # US Dollar\n",
        "        \"HUF\": 385.0,   # Hungarian Forint\n",
        "        \"CZK\": 24.50    # Czech Koruna\n",
        "    }\n",
        "\n",
        "    print(f\"Výmena {eur_amount} EUR na iné meny:\")\n",
        "    for currency, rate in rates.items():\n",
        "        converted = eur_amount * rate\n",
        "        print(f\"{currency}: {converted:.2f}\")\n",
        "\n",
        "if __name__ == \"__main__\":\n",
        "    try:\n",
        "        amount = float(input(\"Zadaj sumu v eurách: \"))\n",
        "        if amount < 0:\n",
        "            print(\"Zadaj kladné číslo.\")\n",
        "        else:\n",
        "            currency_exchange(amount)\n",
        "    except ValueError:\n",
        "        print(\"Prosím, zadaj platné číslo.\")\n"
      ]
    },
    {
      "cell_type": "markdown",
      "source": [
        "Popis krokov programu na prevod EUR do viacerých mien\n",
        "# Definovanie funkcie currency_exchange(eur_amount)\n",
        "\n",
        "**Program má funkciu, ktorá prijíma vstupnú sumu v eurách (eur_amount).\n",
        "\n",
        "Vnútri funkcie je slovník rates s pevne definovanými výmennými kurzami z EUR do rôznych mien **(GBP, PLN, USD, HUF, CZK)**.\n",
        "\n",
        "Výpočet a zobrazenie prevodu pre každú menu\n",
        "\n",
        "Funkcia prejde všetky meny a ich kurzy zo slovníka.\n",
        "\n",
        "Pre každú menu vypočíta hodnotu: eur_amount * kurz.\n",
        "\n",
        "Vypíše výsledok formátovaný na dve desatinné miesta.\n",
        "\n",
        "# Vstup od používateľa\n",
        "\n",
        "Program požiada používateľa, aby zadal sumu v eurách **(input)**.\n",
        "\n",
        "Pokúsi sa previesť vstup na číslo s desatinnou čiarkou **(float)**.\n",
        "\n",
        "# Validácia vstupu\n",
        "\n",
        "Ak je zadaná suma záporná, program vypíše upozornenie, že musí byť kladné číslo.\n",
        "\n",
        "Ak vstup nie je platné číslo (napr. písmená), program vypíše chybovú správu.\n",
        "\n",
        "# Volanie funkcie a zobrazenie výsledkov\n",
        "\n",
        "Ak je vstup platný a kladný, zavolá sa funkcia currency_exchange s danou sumou.\n",
        "\n",
        "Funkcia vypíše prevody do všetkých podporovaných mien.\n",
        "\n",
        "# Ukončenie programu\n",
        "\n",
        "Program končí po zobrazení výsledkov alebo chyby."
      ],
      "metadata": {
        "id": "n1FrhUdbthMA"
      }
    }
  ]
}